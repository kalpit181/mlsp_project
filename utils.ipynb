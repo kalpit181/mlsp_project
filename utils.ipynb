{
 "cells": [
  {
   "cell_type": "code",
   "execution_count": 26,
   "metadata": {},
   "outputs": [],
   "source": [
    "import librosa\n",
    "import numpy as np"
   ]
  },
  {
   "cell_type": "code",
   "execution_count": 32,
   "metadata": {},
   "outputs": [],
   "source": [
    "def wav2feat(wavfile):\n",
    "    '''\n",
    "    Input: audio wav file name\n",
    "    Output: Magnitude spectrogram\n",
    "    '''\n",
    "    x, Fs = librosa.load(wavfile, sr=None, mono=True) \n",
    "    hop = int(0.01 * Fs) # 10ms\n",
    "    win = int(0.02 * Fs) # 20ms\n",
    "    X = librosa.stft(x, n_fft=1024, hop_length=hop, win_length=win, window='hann', center=True, pad_mode='reflect')\n",
    "    return np.abs(X)\n",
    "\n",
    "if __name__==\"__main__\":\n",
    "    wavfile = 'audio_train/4201-3-0-0.wav'\n",
    "    X = wav2feat(wavfile)\n",
    "    "
   ]
  },
  {
   "cell_type": "code",
   "execution_count": null,
   "metadata": {},
   "outputs": [],
   "source": []
  }
 ],
 "metadata": {
  "kernelspec": {
   "display_name": "Python 3",
   "language": "python",
   "name": "python3"
  },
  "language_info": {
   "codemirror_mode": {
    "name": "ipython",
    "version": 3
   },
   "file_extension": ".py",
   "mimetype": "text/x-python",
   "name": "python",
   "nbconvert_exporter": "python",
   "pygments_lexer": "ipython3",
   "version": "3.6.8"
  }
 },
 "nbformat": 4,
 "nbformat_minor": 2
}
